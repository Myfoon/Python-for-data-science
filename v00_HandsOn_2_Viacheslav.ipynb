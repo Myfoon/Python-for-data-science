{
 "cells": [
  {
   "cell_type": "markdown",
   "id": "413b31e8-dd63-443d-8aa2-c8b2a2a0ffbc",
   "metadata": {},
   "source": [
    "HANDS-ON 200 = 50 Points \n",
    "\n",
    "This HANDS-ON is designed to provide a comprehensive understanding of Python programming, covering essential concepts and gradually increasing in complexity.\n",
    "\n",
    "- Now let's use all the knowledge acquired during the days between 18 and 21 of December 2023.\n",
    "\n",
    "\n",
    "HANDS-ON 201: Basic Syntax and Input/Output: TOTAL 5 points"
   ]
  },
  {
   "cell_type": "markdown",
   "id": "7b137680-275b-4efd-b6bc-2285cf1f6cdc",
   "metadata": {},
   "source": [
    "1. Introduction to Python and Basic Syntax:\n",
    "   - Task: Write a Python script that prints \"Hello, World!\" to the console.\n",
    "   - Explanation: Understand the basic structure of a Python script and the importance of the print statement."
   ]
  },
  {
   "cell_type": "code",
   "execution_count": 1,
   "id": "9988bcdc-7faa-4e32-be4c-28e25a748d79",
   "metadata": {},
   "outputs": [
    {
     "name": "stdout",
     "output_type": "stream",
     "text": [
      "Hello, World!\n"
     ]
    }
   ],
   "source": [
    "print(\"Hello, World!\")"
   ]
  },
  {
   "cell_type": "markdown",
   "id": "ce2acd4c-57a7-4d51-99e8-1fa9579442b1",
   "metadata": {},
   "source": [
    "2. Variables and User Input:\n",
    "   - Task: Create a program that takes the user's name as input and prints a personalized greeting.\n",
    "   - Explanation: Learn how to use variables and the input() function for interactive programs."
   ]
  },
  {
   "cell_type": "code",
   "execution_count": 2,
   "id": "0a32a34d-8ddb-4ece-9d59-77dbd06eb53f",
   "metadata": {},
   "outputs": [
    {
     "name": "stdout",
     "output_type": "stream",
     "text": [
      "Type your name:Saa\n",
      "Hello, Saa\n"
     ]
    }
   ],
   "source": [
    "user_name = input(\"Type your name:\")\n",
    "print(f'Hello, {user_name}')"
   ]
  },
  {
   "cell_type": "markdown",
   "id": "0b88fc4c-63a5-4f60-b6e2-1e9b4e050368",
   "metadata": {},
   "source": [
    "3. Arithmetic Operations:\n",
    "   - Task: Write a script that performs basic arithmetic operations (addition, subtraction, multiplication, division) on two numbers.\n",
    "   - Explanation: Explore the use of variables and mathematical operations in Python."
   ]
  },
  {
   "cell_type": "code",
   "execution_count": 16,
   "id": "5bd427e6-718c-45f0-a7da-1d295b89a870",
   "metadata": {},
   "outputs": [
    {
     "name": "stdin",
     "output_type": "stream",
     "text": [
      "First number:  2\n",
      "Second number:  0\n"
     ]
    },
    {
     "name": "stdout",
     "output_type": "stream",
     "text": [
      "Addition: 2.0 + 0.0 = 2.0\n",
      "Subtraction: 2.0 - 0.0 = 2.0\n",
      "Cannot divide by 0. Please provide non-zero second number\n",
      "Multiplication: 2.0 * 0.0 = 0.0\n"
     ]
    }
   ],
   "source": [
    "num1 = float(input(\"First number: \"))\n",
    "num2 = float(input(\"Second number: \"))\n",
    "\n",
    "\n",
    "sum_result = num1 + num2\n",
    "print(f\"Addition: {num1} + {num2} = {sum_result}\")\n",
    "\n",
    "substract_result = num1 - num2\n",
    "print(f\"Subtraction: {num1} - {num2} = {substract_result}\")\n",
    "    \n",
    "if num2 == 0:\n",
    "    print(\"Cannot divide by 0. Please provide non-zero second number\")\n",
    "else:\n",
    "    div_result = num1 / num2\n",
    "    print(f\"Division: {num1} / {num2} = {div_result}\")\n",
    "    \n",
    "mult_result = num1 * num2\n",
    "print(f\"Multiplication: {num1} * {num2} = {mult_result}\")\n"
   ]
  },
  {
   "cell_type": "markdown",
   "id": "24a1a5fd-a93f-4889-9937-19e1c24de187",
   "metadata": {},
   "source": [
    "4. String Manipulation:\n",
    "   - Task: Create a program that takes a user's input and prints the input string in uppercase.\n",
    "   - Explanation: Introduce string manipulation and the upper() method."
   ]
  },
  {
   "cell_type": "code",
   "execution_count": 19,
   "id": "406d2e47-1649-406e-8ad5-cac84ea98df1",
   "metadata": {},
   "outputs": [
    {
     "name": "stdin",
     "output_type": "stream",
     "text": [
      "Your input: wwAWDad\n"
     ]
    },
    {
     "name": "stdout",
     "output_type": "stream",
     "text": [
      "Your string in uppercase: WWAWDAD\n"
     ]
    }
   ],
   "source": [
    "user_input = input(\"Your input:\")\n",
    "print(f'Your string in uppercase: {user_input.upper()}')"
   ]
  },
  {
   "cell_type": "markdown",
   "id": "fa2e640f-fe61-44cc-b27f-85f6e5805de2",
   "metadata": {},
   "source": [
    "5. Formatting Output:\n",
    "   - Task: Develop a program that takes the user's age and prints a formatted message stating their age.\n",
    "   - Explanation: Learn to format output using f-strings or the format() method."
   ]
  },
  {
   "cell_type": "code",
   "execution_count": 27,
   "id": "bf8a5992-c846-4f63-8db3-6ec81b2d3580",
   "metadata": {},
   "outputs": [
    {
     "name": "stdin",
     "output_type": "stream",
     "text": [
      "Your age: 22\n"
     ]
    },
    {
     "name": "stdout",
     "output_type": "stream",
     "text": [
      "Your age is 22\n",
      "Your age is 22\n"
     ]
    }
   ],
   "source": [
    "user_age = int(input(\"Your age:\"))\n",
    "\n",
    "print(f\"Your age is {user_age}\")                # Using f-string\n",
    "\n",
    "print(\"Your age is {}\".format(user_age))        # Using format() method"
   ]
  },
  {
   "cell_type": "markdown",
   "id": "e810bafe-ce8d-4265-8475-36846f51477f",
   "metadata": {},
   "source": [
    "6. Integers:\n",
    "   - Task: Write a program that performs arithmetic operations with integers and prints the results.\n",
    "   - Explanation: Understand the properties and usage of integer data type."
   ]
  },
  {
   "cell_type": "code",
   "execution_count": 36,
   "id": "8dbbec89-6f0a-499f-baa8-d698d08c476b",
   "metadata": {},
   "outputs": [
    {
     "name": "stdin",
     "output_type": "stream",
     "text": [
      "First integer number:  21\n",
      "Second integer number:  0\n"
     ]
    },
    {
     "name": "stdout",
     "output_type": "stream",
     "text": [
      "Addition: 21 + 0 = 21\n",
      "Subtraction: 21 - 0 = 21\n",
      "Cannot divide by 0. Please provide non-zero second number\n",
      "Multiplication: 21 * 0 = 0\n"
     ]
    }
   ],
   "source": [
    "num1 = int(input(\"First integer number: \"))\n",
    "num2 = int(input(\"Second integer number: \"))\n",
    "\n",
    "sum_result = num1 + num2\n",
    "print(f\"Addition: {num1} + {num2} = {sum_result}\")\n",
    "\n",
    "substract_result = num1 - num2\n",
    "print(f\"Subtraction: {num1} - {num2} = {substract_result}\")\n",
    "    \n",
    "if num2 == 0:\n",
    "    print(\"Cannot divide by 0. Please provide non-zero second number\")\n",
    "else:\n",
    "    div_result = num1 / num2                                     \n",
    "    print(f\"Division: {num1} / {num2} = {div_result}\")\n",
    "\n",
    "    fdiv_result = num1 // num2                                     \n",
    "    print(f\"Floor Division: {num1} // {num2} = {fdiv_result}\")\n",
    "    \n",
    "mult_result = num1 * num2\n",
    "print(f\"Multiplication: {num1} * {num2} = {mult_result}\")"
   ]
  },
  {
   "cell_type": "markdown",
   "id": "58da6930-9740-4a63-ae6a-bae3e70d7ed3",
   "metadata": {},
   "source": [
    "7. Floats:\n",
    "   - Task: Create a script that calculates the area of a circle using the radius provided by the user (use floating-point numbers).\n",
    "   - Explanation: Explore the use of float data type for more precise calculations."
   ]
  },
  {
   "cell_type": "code",
   "execution_count": 37,
   "id": "8a45998e-681a-47f3-bb9e-0bfdb6dd4324",
   "metadata": {},
   "outputs": [
    {
     "name": "stdin",
     "output_type": "stream",
     "text": [
      "Circle radius is:  21\n"
     ]
    },
    {
     "name": "stdout",
     "output_type": "stream",
     "text": [
      "Circle area is:  1385.442360233099\n"
     ]
    }
   ],
   "source": [
    "import math\n",
    "\n",
    "radius = float(input(\"Circle radius is: \"))\n",
    "\n",
    "circle_area = math.pi * radius*radius\n",
    "\n",
    "print(\"Circle area is: \",circle_area)"
   ]
  },
  {
   "cell_type": "markdown",
   "id": "e2155f6e-660d-4daa-ada9-b2f4232e4abc",
   "metadata": {},
   "source": [
    "8. Strings:\n",
    "   - Task: Develop a program that manipulates strings (concatenation, slicing) to reverse a user-inputted string.\n",
    "   - Explanation: Understand the properties and methods associated with string data type."
   ]
  },
  {
   "cell_type": "code",
   "execution_count": 38,
   "id": "2df49e8d-e900-4295-8b10-21ee03ef1215",
   "metadata": {},
   "outputs": [
    {
     "name": "stdin",
     "output_type": "stream",
     "text": [
      "Your string with comma:  abc,def\n"
     ]
    },
    {
     "name": "stdout",
     "output_type": "stream",
     "text": [
      "['def', 'abc']\n",
      "fed,cba\n"
     ]
    }
   ],
   "source": [
    "user_string = input(\"Your string with comma: \")\n",
    "splited_string = user_string.split(',')\n",
    "\n",
    "print(splited_string [::-1])            # Here we get inverse order of words\n",
    "\n",
    "print(user_string [::-1])               # Here we get inverse order of symbols"
   ]
  },
  {
   "cell_type": "markdown",
   "id": "54255525-70a8-4a22-9967-bf76a9f76d73",
   "metadata": {},
   "source": [
    "9. Boolean:\n",
    "   - Task: Write a script that compares two numbers and prints whether they are equal or not.\n",
    "   - Explanation: Learn about boolean data type and comparison operators."
   ]
  },
  {
   "cell_type": "code",
   "execution_count": 40,
   "id": "33bb9dd7-4234-4856-b38b-1556a7655c7c",
   "metadata": {},
   "outputs": [
    {
     "name": "stdout",
     "output_type": "stream",
     "text": [
      "Numbers are equal\n"
     ]
    }
   ],
   "source": [
    "x = 10.1\n",
    "y = 10.1\n",
    "if x == y:\n",
    "    print(\"Numbers are equal\")\n",
    "else:\n",
    "    print(\"Numbers are not equal\")"
   ]
  },
  {
   "cell_type": "markdown",
   "id": "b38ff207-65f0-4f25-82b7-6fce562258e9",
   "metadata": {},
   "source": [
    "10. Lists:\n",
    "    - Task: Create a program that demonstrates the use of lists by storing and printing a list of favorite foods.\n",
    "    - Explanation: Introduce the concept of lists and basic list operations."
   ]
  },
  {
   "cell_type": "code",
   "execution_count": 49,
   "id": "e86493b7-fc10-4914-bdc4-29f6fcd87098",
   "metadata": {},
   "outputs": [
    {
     "name": "stdout",
     "output_type": "stream",
     "text": [
      "Kebab\n",
      "Cepelinai\n",
      "Beer\n",
      "Updated food list: ['Kebab', 'Cepelinai', 'Beer', 'Cheese']\n"
     ]
    }
   ],
   "source": [
    "favorite_food_list = ['Kebab', 'Cepelinai','Beer']\n",
    "\n",
    "for food_name in favorite_food_list:\n",
    "    print(food_name)\n",
    "\n",
    "favorite_food_list.append('Cheese')\n",
    "\n",
    "print(\"Updated food list:\",favorite_food_list)"
   ]
  },
  {
   "cell_type": "markdown",
   "id": "bf83ce1b-5699-46a1-82b7-be1e2e09bf45",
   "metadata": {},
   "source": [
    "11. For Loop:\n",
    "    - Task: Write a program using a for loop to print numbers from 1 to 10.\n",
    "    - Explanation: Understand the syntax and usage of for loops."
   ]
  },
  {
   "cell_type": "code",
   "execution_count": 5,
   "id": "8e2d7393-e21f-4fbe-bcca-7d7272f97177",
   "metadata": {},
   "outputs": [
    {
     "name": "stdout",
     "output_type": "stream",
     "text": [
      "1\n",
      "2\n",
      "3\n",
      "4\n",
      "5\n",
      "6\n",
      "7\n",
      "8\n",
      "9\n",
      "10\n"
     ]
    }
   ],
   "source": [
    "i = 1\n",
    "while i <= 10:\n",
    "    print(i)\n",
    "    i+= 1"
   ]
  },
  {
   "cell_type": "markdown",
   "id": "e313e9a5-7c84-44e2-9c6c-98fb242cb533",
   "metadata": {},
   "source": [
    "12. While Loop:\n",
    "    - Task: Develop a program that uses a while loop to calculate the sum of numbers from 1 to 100.\n",
    "    - Explanation: Explore the syntax and application of while loops."
   ]
  },
  {
   "cell_type": "code",
   "execution_count": 52,
   "id": "bf31f10b-612e-4a74-8209-4093ee8cb751",
   "metadata": {},
   "outputs": [
    {
     "name": "stdout",
     "output_type": "stream",
     "text": [
      "5050\n"
     ]
    }
   ],
   "source": [
    "num = 1\n",
    "sum = 0\n",
    "\n",
    "while num <= 100:\n",
    "    sum += num\n",
    "    num += 1\n",
    "print(sum)"
   ]
  },
  {
   "cell_type": "markdown",
   "id": "e11d3347-6811-47ec-8ecf-d70f502b3757",
   "metadata": {},
   "source": [
    "13. Nested Loop:\n",
    "    - Task: Create a script that uses nested loops to print a pattern (e.g., a triangle of asterisks).\n",
    "    - Explanation: Understand the concept of nested loops."
   ]
  },
  {
   "cell_type": "code",
   "execution_count": 72,
   "id": "fe283445-1c57-428c-9aa2-20eaab0fb6ab",
   "metadata": {},
   "outputs": [
    {
     "name": "stdout",
     "output_type": "stream",
     "text": [
      "*\n",
      "**\n",
      "***\n",
      "****\n",
      "*****\n",
      "******\n",
      "*******\n",
      "********\n",
      "*********\n",
      "**********\n",
      "    *    \n",
      "   * *   \n",
      "  *   *  \n",
      " *     * \n",
      "*********\n"
     ]
    }
   ],
   "source": [
    "# 1. Right triangle (without nested loop)\n",
    "\n",
    "aster = '*'\n",
    "num = 1\n",
    "while num <= 10:\n",
    "    print(num * aster)\n",
    "    num+= 1 \n",
    "\n",
    "\n",
    "\n",
    "# 2. Hollow triangle. It's not my code to be honest, but it is a good example with nested loops and i understand it\n",
    "\n",
    "n = 5                                       # Number of rows\n",
    "for i in range(1,n+1):                      # Outer loop for rows\n",
    "    for j in range(1,2*n):                  # Inner loop for columns\n",
    "            \n",
    "        if i==n or i+j==n+1 or j-i==n-1:   # Conditions for creating the pattern\n",
    "            print(\"*\", end=\"\")\n",
    "        else:\n",
    "            print(end=\" \")\n",
    "    print()"
   ]
  },
  {
   "cell_type": "markdown",
   "id": "55860907-df12-40fa-b67b-bb21a3adf56c",
   "metadata": {},
   "source": [
    "14. Break and Continue:\n",
    "    - Task: Write a program that uses break and continue statements within a loop to control its execution.\n",
    "    - Explanation: Learn how to use break and continue for better loop control."
   ]
  },
  {
   "cell_type": "code",
   "execution_count": 4,
   "id": "0bf1ec0e-c34f-4493-8439-59ac9213e817",
   "metadata": {},
   "outputs": [
    {
     "name": "stdout",
     "output_type": "stream",
     "text": [
      "2 is an even number\n",
      "4 is an even number\n",
      "4 is an even number\n",
      "2 is an even number\n",
      "10 is an even number\n",
      "232 is an even number\n",
      "42 is an even number\n",
      "422 is an even number\n",
      "We found an odd number: 543\n",
      "\n",
      "a is not a number\n",
      "2 is an even number\n",
      "4 is an even number\n",
      "4 is an even number\n",
      "2 is an even number\n",
      "10 is an even number\n",
      "b is not a number\n",
      "232 is an even number\n",
      "42 is an even number\n",
      "422 is an even number\n",
      "a is not a number\n",
      "We found an odd number: 543\n"
     ]
    }
   ],
   "source": [
    "# I want to print the first odd number in the list. Here i use continue to skip non-number list elements:\n",
    "\n",
    "list = [2,4,4,2,10,'b',232,42,422,'a',543,21]\n",
    "\n",
    "for i in range(len(list)):\n",
    "    if type(list[i]) != int:\n",
    "        i += 1\n",
    "        continue\n",
    "    elif (list[i] % 2) == 0:\n",
    "        print(f\"{list[i]} is an even number\")\n",
    "        i += 1        \n",
    "    else:\n",
    "        print(f\"We found an odd number: {list[i]}\\n\")\n",
    "        break\n",
    "\n",
    "\n",
    "# Another option: i use try-except to avoid non-numbers:\n",
    "\n",
    "for i in range(len(list)):\n",
    "    try:\n",
    "        if (list[i] % 2) == 0:\n",
    "            print(f\"{list[i]} is an even number\")\n",
    "            i += 1     \n",
    "        else:\n",
    "            print(f\"We found an odd number: {list[i]}\")\n",
    "            break\n",
    "    except:\n",
    "        print(f\"{list[i]} is not a number\")\n",
    "        i += 1"
   ]
  },
  {
   "cell_type": "markdown",
   "id": "942708f0-3d44-4015-8cd4-baf6095c1040",
   "metadata": {},
   "source": [
    "15. Loop with Lists:\n",
    "    - Task: Develop a program that uses a loop to iterate through a list and print its elements.\n",
    "    - Explanation: Combine loops with the manipulation of lists."
   ]
  },
  {
   "cell_type": "code",
   "execution_count": 3,
   "id": "e8c439a0-f854-42f9-8b89-42a7e84fe606",
   "metadata": {},
   "outputs": [
    {
     "name": "stdout",
     "output_type": "stream",
     "text": [
      "apple\n",
      "banana\n",
      "kiwi\n",
      "melon\n",
      "grape\n",
      "apple\n",
      "banana\n",
      "kiwi\n",
      "melon\n",
      "grape\n"
     ]
    }
   ],
   "source": [
    "my_list = ['apple','banana','kiwi','melon','grape']\n",
    "\n",
    "for fruit in my_list:\n",
    "    print(fruit)\n",
    "    \n",
    "# Another option:\n",
    "for i in range(len(my_list)):\n",
    "     print(my_list[i])"
   ]
  },
  {
   "cell_type": "markdown",
   "id": "f638d481-73d0-4450-a6c4-cdd7949862f1",
   "metadata": {},
   "source": [
    "16. Function Definition:\n",
    "    - Task: Define a function that prints a custom greeting message when called.\n",
    "    - Explanation: Understand the syntax and structure of function definition."
   ]
  },
  {
   "cell_type": "code",
   "execution_count": 8,
   "id": "14eb709b-9a6e-4cfe-b95e-7a2129eb2f7e",
   "metadata": {},
   "outputs": [
    {
     "name": "stdout",
     "output_type": "stream",
     "text": [
      "Custom greeting!\n"
     ]
    }
   ],
   "source": [
    "def greeting():\n",
    "    print(\"Custom greeting!\")\n",
    "\n",
    "greeting()"
   ]
  },
  {
   "cell_type": "markdown",
   "id": "94417595-e1fe-4c18-a74e-3335e6461052",
   "metadata": {},
   "source": [
    "17. Function with Parameters:\n",
    "    - Task: Write a function that accepts two parameters (numbers) and returns their sum.\n",
    "    - Explanation: Explore functions with parameters and return statements."
   ]
  },
  {
   "cell_type": "code",
   "execution_count": 11,
   "id": "a55b3a3e-a296-45df-a67d-867985f5e909",
   "metadata": {},
   "outputs": [
    {
     "name": "stdout",
     "output_type": "stream",
     "text": [
      "15.6\n"
     ]
    }
   ],
   "source": [
    "def sum_func(a, b):\n",
    "    print(a+b)\n",
    "    \n",
    "sum_func(10, 5.6)"
   ]
  },
  {
   "cell_type": "markdown",
   "id": "c5890ff7-11f0-4508-9a05-f2b03d4ce3da",
   "metadata": {},
   "source": [
    "18. Default Parameters:\n",
    "    - Task: Create a function that has default parameters and demonstrate calling the function with and without arguments.\n",
    "    - Explanation: Understand the concept of default parameters in functions."
   ]
  },
  {
   "cell_type": "code",
   "execution_count": 23,
   "id": "0eb03f6f-3c00-47e1-97f2-a76ac11de83b",
   "metadata": {},
   "outputs": [
    {
     "name": "stdout",
     "output_type": "stream",
     "text": [
      "Lietuva is a country\n",
      "Vilnis is a city\n"
     ]
    }
   ],
   "source": [
    "def my_func(a, b = \"country\"):\n",
    "    print(f\"{a} is a {b}\")\n",
    "    \n",
    "my_func(\"Lietuva\")\n",
    "my_func(\"Vilnis\", \"city\")"
   ]
  },
  {
   "cell_type": "markdown",
   "id": "55e3250c-b5f0-4395-ba75-19aaed4527e8",
   "metadata": {},
   "source": [
    "19. Recursive Function:\n",
    "    - Task: Develop a recursive function that calculates the factorial of a given number.\n",
    "    - Explanation: Introduce the concept of recursive functions."
   ]
  },
  {
   "cell_type": "code",
   "execution_count": 34,
   "id": "1f5c8726-89b7-4ff6-966f-bb6400063093",
   "metadata": {},
   "outputs": [
    {
     "data": {
      "text/plain": [
       "120"
      ]
     },
     "execution_count": 34,
     "metadata": {},
     "output_type": "execute_result"
    }
   ],
   "source": [
    "def fact(num):\n",
    "    if num <= 1:\n",
    "        return num\n",
    "    else:\n",
    "        return(fact(num-1)*num)\n",
    "fact(5)"
   ]
  },
  {
   "cell_type": "markdown",
   "id": "a918ee85-e921-4477-9798-8cdac0427575",
   "metadata": {},
   "source": [
    "20. Lambda Function:\n",
    "    - Task: Write a program that uses a lambda function to square each element of a list.\n",
    "    - Explanation: Learn the basics of lambda functions for concise, one-line operations."
   ]
  },
  {
   "cell_type": "code",
   "execution_count": 7,
   "id": "1609c3e4-eaa2-4297-a3d6-657357d08ad4",
   "metadata": {},
   "outputs": [
    {
     "name": "stdout",
     "output_type": "stream",
     "text": [
      "[4, 25, 100, 2809, 576, 48841, 441, 5.76]\n"
     ]
    }
   ],
   "source": [
    "my_list = [2,5,10,-53,24,221,-21,2.4]\n",
    "\n",
    "squared_list = list(map(lambda a: a*a, my_list))\n",
    "print(squared_list)"
   ]
  },
  {
   "cell_type": "markdown",
   "id": "47841ac7-467b-4eaf-830e-81483bc52e14",
   "metadata": {},
   "source": [
    "21. Sets:\n",
    "    - Task: Create a program that demonstrates the use of sets by performing set operations (union, intersection, difference).\n",
    "    - Explanation: Introduce the concept of sets and their operations."
   ]
  },
  {
   "cell_type": "code",
   "execution_count": 9,
   "id": "b2d41ef2-98c6-4f85-9e13-f72d398057fd",
   "metadata": {},
   "outputs": [
    {
     "name": "stdout",
     "output_type": "stream",
     "text": [
      "{2, 3, 4, 5, 6, 7, 8, 9, 10, 12}\n",
      "{5}\n",
      "{2, 3}\n"
     ]
    }
   ],
   "source": [
    "set_a = {4, 2, 3, 12 , 5}\n",
    "set_b = {4, 5, 6, 7, 8}\n",
    "set_c =  {9, 10, 12, 5}\n",
    "\n",
    "set_d = set_a | set_b | set_c       # Union\n",
    "print(set_d)\n",
    "\n",
    "set_d = set_a & set_b & set_c       # Intersection\n",
    "print(set_d)\n",
    "\n",
    "set_d = set_a - set_b - set_c       # Difference\n",
    "print(set_d)"
   ]
  },
  {
   "cell_type": "markdown",
   "id": "2a93a3e0-6980-4925-80a2-6cb7afc1db91",
   "metadata": {},
   "source": [
    "22. Tuples:\n",
    "    - Task: Write a script that uses tuples to store coordinates (x, y) and prints them.\n",
    "    - Explanation: Understand the properties and immutability of tuples."
   ]
  },
  {
   "cell_type": "code",
   "execution_count": 147,
   "id": "b903af71-66ef-4c51-9543-87ec939be0f9",
   "metadata": {},
   "outputs": [
    {
     "name": "stdout",
     "output_type": "stream",
     "text": [
      "54.33\n",
      "67.22\n",
      "<class 'int'>\n",
      "<class 'tuple'>\n"
     ]
    },
    {
     "ename": "TypeError",
     "evalue": "'tuple' object does not support item assignment",
     "output_type": "error",
     "traceback": [
      "\u001b[1;31m---------------------------------------------------------------------------\u001b[0m",
      "\u001b[1;31mTypeError\u001b[0m                                 Traceback (most recent call last)",
      "Cell \u001b[1;32mIn[147], line 11\u001b[0m\n\u001b[0;32m      8\u001b[0m my_tuple_2 \u001b[38;5;241m=\u001b[39m (\u001b[38;5;241m60\u001b[39m,)      \u001b[38;5;66;03m# The way to create tuple of one element\u001b[39;00m\n\u001b[0;32m      9\u001b[0m \u001b[38;5;28mprint\u001b[39m(\u001b[38;5;28mtype\u001b[39m(my_tuple_2))\n\u001b[1;32m---> 11\u001b[0m \u001b[43mmy_tuple\u001b[49m\u001b[43m[\u001b[49m\u001b[38;5;241;43m0\u001b[39;49m\u001b[43m]\u001b[49m \u001b[38;5;241m=\u001b[39m \u001b[38;5;241m22.11\u001b[39m     \u001b[38;5;66;03m# We have TypeError: 'tuple' object does not support item assignment\u001b[39;00m\n",
      "\u001b[1;31mTypeError\u001b[0m: 'tuple' object does not support item assignment"
     ]
    }
   ],
   "source": [
    "my_tuple = (54.33, 67.22)\n",
    "for coordinate in my_tuple:\n",
    "    print(coordinate)\n",
    "\n",
    "my_tuple_2 = (60)         # Creating int, not a tuple\n",
    "print(type(my_tuple_2))\n",
    "\n",
    "my_tuple_2 = (60,)      # The way to create tuple of one element\n",
    "print(type(my_tuple_2))\n",
    "\n",
    "my_tuple[0] = 22.11     # We have TypeError: 'tuple' object does not support item assignment"
   ]
  },
  {
   "cell_type": "markdown",
   "id": "03328939-d858-47d6-954b-60deca9a1c82",
   "metadata": {},
   "source": [
    "23. Combining Lists, Sets, and Tuples:\n",
    "    - Task: Develop a program that combines elements from a list, a set, and a tuple, then prints the result.\n",
    "    - Explanation: Learn how to work with different data structures simultaneously."
   ]
  },
  {
   "cell_type": "code",
   "execution_count": 5,
   "id": "826a5ca5-a7c9-403c-b962-5d133137b3ce",
   "metadata": {},
   "outputs": [
    {
     "name": "stdout",
     "output_type": "stream",
     "text": [
      "Fred\n",
      "Dick\n",
      "Jeela\n",
      "2\n",
      "5\n",
      "23\n",
      "41\n",
      "11\n",
      "14\n",
      "Lara\n",
      "Cost\n"
     ]
    }
   ],
   "source": [
    "my_list = ['Fred','Dick','Jeela']\n",
    "my_set = {2,5,11,23,41,14}\n",
    "my_tuple = ('Lara','Cost')\n",
    "\n",
    "my_new_list = []\n",
    "\n",
    "for element in my_list:\n",
    "    my_new_list.append(element)\n",
    "for element in my_set:\n",
    "    my_new_list.append(element)\n",
    "for element in my_tuple:\n",
    "    my_new_list.append(element)\n",
    "\n",
    "for element in my_new_list:          # my_new_list containes elements from list, set and tuple\n",
    "    print(element)"
   ]
  },
  {
   "cell_type": "markdown",
   "id": "2c69d0e3-a270-42f2-96c7-e6ae31376e0d",
   "metadata": {},
   "source": [
    "24. Dictionary Basics:\n",
    "    - Task: Create a program that uses a dictionary to store and print information about a person (name, age, city).\n",
    "    - Explanation: Introduce the concept of dictionaries and key-value pairs."
   ]
  },
  {
   "cell_type": "code",
   "execution_count": 8,
   "id": "ebe97f92-afb8-4528-80e4-f22de9d1ca2b",
   "metadata": {},
   "outputs": [
    {
     "name": "stdout",
     "output_type": "stream",
     "text": [
      "<class 'dict'>\n",
      "21\n",
      "name Mike\n",
      "age 21\n",
      "city Kaunas\n"
     ]
    }
   ],
   "source": [
    "key = ['name','age','city']\n",
    "value = ['Mike', 21, 'Kaunas']\n",
    "\n",
    "mydict = {k:v for (k,v) in zip(key,value)}  # Creation and filling the dictionary\n",
    "\n",
    "print(type(mydict))\n",
    "print(mydict['age'])\n",
    "\n",
    "for key, value in mydict.items():            # Printing information about the person\n",
    "  print(key, value)"
   ]
  },
  {
   "cell_type": "markdown",
   "id": "6f1291e9-5315-44e4-8f84-56de0241f308",
   "metadata": {},
   "source": [
    "25. Nested Dictionaries:\n",
    "    - Task: Develop a script that uses nested dictionaries to represent a simple organizational structure.\n",
    "    - Explanation: Understand how to structure nested dictionaries."
   ]
  },
  {
   "cell_type": "code",
   "execution_count": 145,
   "id": "ab45e45a-267a-4299-adf3-6f7c167a4837",
   "metadata": {},
   "outputs": [
    {
     "name": "stdout",
     "output_type": "stream",
     "text": [
      "Carlos \n",
      "\n",
      "Team role: forward\n",
      "name : Ronaldo\n",
      "year : 1976\n",
      "Team role: midfielder\n",
      "name : Gerrard\n",
      "year : 1980\n",
      "Team role: defender\n",
      "name : Carlos\n",
      "year : 1973\n"
     ]
    }
   ],
   "source": [
    "forward = { \"name\" : \"Ronaldo\", \"year\" : 1976 }\n",
    "midfielder = { \"name\" : \"Gerrard\", \"year\" : 1980 }\n",
    "defender = { \"name\" : \"Carlos\", \"year\" : 1973 }\n",
    "\n",
    "team = { \"forward\" : forward, \"midfielder\" : midfielder, \"defender\" : defender }\n",
    "\n",
    "print(team[\"defender\"][\"name\"],'\\n')\n",
    "\n",
    "for  team_role, player_info in team.items():               # Getting all key:value pairs from nested dictionary\n",
    "    print(\"Team role:\", team_role)\n",
    "    \n",
    "    for key in player_info:\n",
    "        print(key,':', player_info[key])"
   ]
  },
  {
   "cell_type": "markdown",
   "id": "753978b3-6f53-4c59-b22f-86c7a9c801e9",
   "metadata": {},
   "source": [
    "26. Accessing Dictionary Elements:\n",
    "    - Task: Write a program that demonstrates different ways to access elements in a dictionary.\n",
    "    - Explanation: Explore methods for accessing and manipulating dictionary elements."
   ]
  },
  {
   "cell_type": "code",
   "execution_count": 63,
   "id": "b94d3828-4a30-4968-8ffc-525a320d19bd",
   "metadata": {},
   "outputs": [
    {
     "name": "stdout",
     "output_type": "stream",
     "text": [
      "{'color': 'blue', 'model': 'Mustang', 'manufacturer': 'Ford', 'year': '1969'} \n",
      "\n",
      "dict_keys(['color', 'model', 'manufacturer', 'year']) \n",
      "\n",
      "dict_values(['blue', 'Mustang', 'Ford', '1969']) \n",
      "\n",
      "dict_items([('color', 'blue'), ('model', 'Mustang'), ('manufacturer', 'Ford'), ('year', '1969')]) \n",
      "\n",
      "color blue\n",
      "model Mustang\n",
      "manufacturer Ford\n",
      "year 1969\n",
      "\n",
      "\n",
      "color : blue\n",
      "model : Mustang\n",
      "manufacturer : Ford\n",
      "year : 1969\n",
      "\n",
      "\n",
      "Mustang \n",
      "\n",
      "1969\n"
     ]
    }
   ],
   "source": [
    "mydict = {        \n",
    "    'color': 'blue',\n",
    "    'model': 'Mustang',\n",
    "    'manufacturer': 'Ford',\n",
    "    'year': '1969'\n",
    "}\n",
    "\n",
    "print(mydict,\"\\n\")\n",
    "\n",
    "print(mydict.keys(),\"\\n\")        # Provide all the keys\n",
    "\n",
    "print(mydict.values(),\"\\n\")      # Provide all the values\n",
    "\n",
    "print(mydict.items(),\"\\n\")       # Provide all key-value pairs\n",
    "\n",
    "for key, value in mydict.items():  \n",
    "  print(key, value)\n",
    "print(\"\\n\")\n",
    "\n",
    "for key in mydict:\n",
    "    print(key,':',mydict[key])\n",
    "print(\"\\n\")\n",
    "\n",
    "print(mydict['model'],\"\\n\")      # Provide the value corresponding to the key 'model'\n",
    "\n",
    "print(mydict.get('year'))        # Provide the value corresponding to the key 'year' with method .get()"
   ]
  },
  {
   "cell_type": "markdown",
   "id": "3e325e8d-a723-4986-abfe-35193ef2bd59",
   "metadata": {},
   "source": [
    "27. Dictionary Operations:\n",
    "    - Task: Create a script that adds, updates, and deletes elements in a dictionary based on user input.\n",
    "    - Explanation: Learn basic dictionary operations."
   ]
  },
  {
   "cell_type": "code",
   "execution_count": 4,
   "id": "0a049f40-a1be-46af-ac96-2ccc64738ae4",
   "metadata": {},
   "outputs": [
    {
     "name": "stdin",
     "output_type": "stream",
     "text": [
      "Please provide your comma-separated keys:  color, model, manufacturer, year\n",
      "Please provide your comma-separated values:  blue, Mustang, Ford, 1969\n"
     ]
    },
    {
     "name": "stdout",
     "output_type": "stream",
     "text": [
      "Your initial dictionary:  {'color': 'blue', ' model': ' Mustang', ' manufacturer': ' Ford', ' year': ' 1969'}\n",
      "Color was changed:  {'color': 'red', ' model': ' Mustang', ' manufacturer': ' Ford', ' year': ' 1969'}\n",
      "Transmission type was added:  {'color': 'red', ' model': ' Mustang', ' manufacturer': ' Ford', ' year': ' 1969', 'transmission': 'AT'}\n",
      "Color was removed:  {' model': ' Mustang', ' manufacturer': ' Ford', ' year': ' 1969', 'transmission': 'AT'}\n"
     ]
    }
   ],
   "source": [
    "key = input(\"Please provide your comma-separated keys: \").split(',')          # Recommended:  color, model, manufacturer, year\n",
    "value = input(\"Please provide your comma-separated values: \").split(',')      # Recommended:  blue, Mustang, Ford, 1969\n",
    "\n",
    "\n",
    "mydict = {k:v for (k,v) in zip(key,value)}            # Creating dictionary from users input\n",
    "print(\"Your initial dictionary: \", mydict)\n",
    "\n",
    "mydict['color'] = 'red'                               # change value corresponding to existing key 'color'\n",
    "print(\"Color was changed: \", mydict)\n",
    "\n",
    "mydict.update({'transmission': 'AT'})                 #  add new key:value pair\n",
    "print(\"Transmission type was added: \", mydict)\n",
    "\n",
    "del mydict['color']                                   # delete key 'color' and corresponding value\n",
    "print(\"Color was removed: \", mydict)"
   ]
  },
  {
   "cell_type": "markdown",
   "id": "f2f61a5c-d174-489d-856a-81a34c8f8481",
   "metadata": {},
   "source": [
    "28. Conditional Statements:\n",
    "    - Task: Write a program that uses if-elif-else statements to determine if a number is positive, negative, or zero.\n",
    "    - Explanation: Understand the syntax and usage of conditional statements."
   ]
  },
  {
   "cell_type": "code",
   "execution_count": 36,
   "id": "1fc3d2e7-b455-46fc-bddc-10ebac0e50c7",
   "metadata": {},
   "outputs": [
    {
     "name": "stdout",
     "output_type": "stream",
     "text": [
      "Your number is negative\n"
     ]
    }
   ],
   "source": [
    "num = -11\n",
    "if num > 0:\n",
    "    print(\"Your number is positive\")\n",
    "elif num < 0:\n",
    "    print(\"Your number is negative\")\n",
    "else:\n",
    "    print(\"It is zero\")"
   ]
  },
  {
   "cell_type": "markdown",
   "id": "29384c7b-f81b-463e-84c6-0a7197fb0d9c",
   "metadata": {},
   "source": [
    "29. Logical Operators:\n",
    "    - Task: Develop a program that uses logical operators (and, or, not) to combine multiple conditions.\n",
    "    - Explanation: Learn how to use logical operators for more complex conditionals."
   ]
  },
  {
   "cell_type": "code",
   "execution_count": 21,
   "id": "9f1324be-4b6a-432c-9c1b-4b7dfbab93dd",
   "metadata": {},
   "outputs": [
    {
     "name": "stdin",
     "output_type": "stream",
     "text": [
      "Please provide credit history (good/bad):  bad\n",
      "Please provide salary:  11000\n"
     ]
    },
    {
     "name": "stdout",
     "output_type": "stream",
     "text": [
      "Сredit approved\n"
     ]
    }
   ],
   "source": [
    "# A simple function to check credability of the person before giving him a money loan\n",
    "# (it is just my fantazy, i believe it is not that simple in reality))\n",
    "\n",
    "def credability (credit_history, salary):\n",
    "    credit_history = input(\"Please provide credit history (good/bad): \")\n",
    "    salary = int(input(\"Please provide salary: \"))\n",
    "\n",
    "    if credit_history != 'bad' or credit_history == 'bad' and salary >= 10000:\n",
    "        return(\"Сredit approved\")\n",
    "    else:\n",
    "        return(\"Сredit denied\")\n",
    "\n",
    "print(credability (credit_history, salary))"
   ]
  },
  {
   "cell_type": "markdown",
   "id": "6a9df0d2-f26e-4393-9f20-efe183c41678",
   "metadata": {},
   "source": [
    "30. Nested Conditionals:\n",
    "    - Task: Create a script that uses nested if statements to categorize a student's performance based on exam scores.\n",
    "    - Explanation: Understand the structure and application of nested conditional statements."
   ]
  },
  {
   "cell_type": "code",
   "execution_count": 142,
   "id": "735894ab-e6d9-4a94-bc57-7078239b1548",
   "metadata": {},
   "outputs": [
    {
     "name": "stdout",
     "output_type": "stream",
     "text": [
      "Your scores are: [7, 9, 8, 5, 10]\n",
      "Your average score is: 7.8\n",
      "\n",
      "Average score threshold has been crossed!\n",
      "And you even get scholarship!\n"
     ]
    }
   ],
   "source": [
    "import random\n",
    "\n",
    "scores_list = random.sample(range(2, 11), 5)                     # Generate 5 random scores between 2 and 10\n",
    "print(f\"Your scores are: {scores_list}\")\n",
    "\n",
    "average_score = round(sum(scores_list) / len(scores_list), 1)\n",
    "print(f\"Your average score is: {average_score}\\n\")\n",
    "\n",
    "scholarship = True\n",
    "\n",
    "if average_score >= 6:\n",
    "    print(\"Average score threshold has been crossed!\")\n",
    "    for i in range(len(scores_list)):\n",
    "        if scores_list[i] < 4:\n",
    "            i += 1\n",
    "            scholarship = False                                  # If at least one score is < 4, scholarship burns\n",
    "\n",
    "    if scholarship:\n",
    "        print(\"And you even get scholarship!\")\n",
    "else:\n",
    "    print(\"Average score is insufficient...\")"
   ]
  }
 ],
 "metadata": {
  "kernelspec": {
   "display_name": "Python 3",
   "language": "python",
   "name": "python3"
  },
  "language_info": {
   "codemirror_mode": {
    "name": "ipython",
    "version": 3
   },
   "file_extension": ".py",
   "mimetype": "text/x-python",
   "name": "python",
   "nbconvert_exporter": "python",
   "pygments_lexer": "ipython3",
   "version": "3.8.8"
  }
 },
 "nbformat": 4,
 "nbformat_minor": 5
}
